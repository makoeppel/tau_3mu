{
 "cells": [
  {
   "cell_type": "code",
   "execution_count": 37,
   "metadata": {},
   "outputs": [],
   "source": [
    "import pandas as pd\n",
    "import numpy as np\n",
    "from models.BinaryMI import BinaryMI\n",
    "from models.DebiasClassifier import DebiasClassifier\n",
    "from sklearn.model_selection import train_test_split\n",
    "from sklearn.preprocessing import StandardScaler\n",
    "from sklearn.metrics import roc_curve, auc, roc_auc_score\n",
    "import matplotlib.pyplot as plt\n",
    "import matplotlib as mpl\n",
    "import matplotlib.patches as patches\n",
    "from matplotlib import rc, rcParams\n",
    "from matplotlib.collections import LineCollection\n",
    "from scipy.interpolate import UnivariateSpline\n",
    "import random"
   ]
  },
  {
   "cell_type": "code",
   "execution_count": 2,
   "metadata": {},
   "outputs": [],
   "source": [
    "# The label ‘signal’ being ‘1’ for signal events, ‘0’ for background events\n",
    "# the signal events are simulated, while background events are real data.\n",
    "training = pd.read_csv(\"data/training.csv\")\n",
    "# The test dataset has all the columns that training.csv has, except\n",
    "# mass, production, min_ANNmuon, and signal.\n",
    "test = pd.read_csv(\"data/test.csv\")\n",
    "# Simulated and real events from the channel Ds → φπ to evaluate\n",
    "# the performance for simulated-real data\n",
    "# It contains the same columns as test.csv and weight column. \n",
    "agreement = pd.read_csv(\"data/check_agreement.csv\")\n",
    "# Only real background events recorded at LHCb to evaluate\n",
    "# the mass values locally.\n",
    "# It contains the same columns as test.csv and mass column to check correlation\n",
    "correlation = pd.read_csv(\"data/check_correlation.csv\")"
   ]
  },
  {
   "cell_type": "code",
   "execution_count": 3,
   "metadata": {},
   "outputs": [
    {
     "name": "stdout",
     "output_type": "stream",
     "text": [
      "Agreement data # source domain: 8205, # target domain: 322942\n",
      "Training data # source domain: 41674, # target domain: 25879\n"
     ]
    }
   ],
   "source": [
    "# simulation (source) (signal==1) contains 8205 examples \n",
    "# real data (target) (signal==0) contains 322942 examples with weight values\n",
    "counts = np.unique(agreement[\"signal\"], return_counts=True)\n",
    "counts_train = np.unique(training[\"signal\"], return_counts=True)\n",
    "\n",
    "print(f\"Agreement data # source domain: {counts[1][1]}, # target domain: {counts[1][0]}\")\n",
    "print(f\"Training data # source domain: {counts_train[1][1]}, # target domain: {counts_train[1][0]}\")"
   ]
  },
  {
   "cell_type": "code",
   "execution_count": 4,
   "metadata": {},
   "outputs": [],
   "source": [
    "# prepare the data\n",
    "\n",
    "# split the data for agreement test at the end\n",
    "agreement_train, agreement_test = \\\n",
    "    train_test_split(agreement, test_size=0.666)\n",
    "\n",
    "# we take equal values from both groups\n",
    "agreement_train_s0 = agreement_train[agreement_train[\"signal\"]==0].sample(n=int(len(agreement_train[agreement_train[\"signal\"]==1])/2))\n",
    "agreement_train_s1 = agreement_train[agreement_train[\"signal\"]==1].sample(n=int(len(agreement_train[agreement_train[\"signal\"]==1])/2))\n",
    "agreement = pd.concat([agreement_train_s0, agreement_train_s1])\n",
    "\n",
    "# prepare the data for the domain adaptation task\n",
    "s = np.concatenate([agreement_train[\"signal\"].to_numpy(), training[\"signal\"].to_numpy()])\n",
    "agreement_train = agreement_train.drop(columns=[\"id\", \"signal\", \"SPDhits\", \"weight\"], axis = 1)\n",
    "\n",
    "# from the agreement data we only have background so y=0\n",
    "y = np.concatenate([np.zeros(len(agreement_train)), training[\"signal\"].to_numpy()])\n",
    "\n",
    "# Note: for this example we dont use the mass\n",
    "# mass_train = training[\"mass\"]\n",
    "\n",
    "# create the features to train on\n",
    "x = training.drop(columns=[\"id\", \"production\", \"min_ANNmuon\", \"signal\", \"mass\", \"SPDhits\"], axis = 1)\n",
    "x = pd.concat([agreement_train, x], ignore_index=True)\n",
    "\n",
    "# split the data into train and test set\n",
    "X_train, X_test, y_train, y_test, S_train, S_test = \\\n",
    "    train_test_split(x, y, s, test_size=0.333)\n",
    "\n",
    "# scale data\n",
    "scaler = StandardScaler()\n",
    "X_train = scaler.fit_transform(X_train)\n",
    "X_test = scaler.transform(X_test)"
   ]
  },
  {
   "cell_type": "code",
   "execution_count": 25,
   "metadata": {},
   "outputs": [
    {
     "data": {
      "text/html": [
       "<pre style=\"white-space:pre;overflow-x:auto;line-height:normal;font-family:Menlo,'DejaVu Sans Mono',consolas,'Courier New',monospace\"><span style=\"font-weight: bold\">Model: \"BinaryMI\"</span>\n",
       "</pre>\n"
      ],
      "text/plain": [
       "\u001b[1mModel: \"BinaryMI\"\u001b[0m\n"
      ]
     },
     "metadata": {},
     "output_type": "display_data"
    },
    {
     "data": {
      "text/html": [
       "<pre style=\"white-space:pre;overflow-x:auto;line-height:normal;font-family:Menlo,'DejaVu Sans Mono',consolas,'Courier New',monospace\">┏━━━━━━━━━━━━━━━━━━━━━━━━━━━━━━━━━┳━━━━━━━━━━━━━━━━━━━━━━━━┳━━━━━━━━━━━━━━━┓\n",
       "┃<span style=\"font-weight: bold\"> Layer (type)                    </span>┃<span style=\"font-weight: bold\"> Output Shape           </span>┃<span style=\"font-weight: bold\">       Param # </span>┃\n",
       "┡━━━━━━━━━━━━━━━━━━━━━━━━━━━━━━━━━╇━━━━━━━━━━━━━━━━━━━━━━━━╇━━━━━━━━━━━━━━━┩\n",
       "│ x (<span style=\"color: #0087ff; text-decoration-color: #0087ff\">InputLayer</span>)                  │ (<span style=\"color: #00d7ff; text-decoration-color: #00d7ff\">None</span>, <span style=\"color: #00af00; text-decoration-color: #00af00\">45</span>)             │             <span style=\"color: #00af00; text-decoration-color: #00af00\">0</span> │\n",
       "├─────────────────────────────────┼────────────────────────┼───────────────┤\n",
       "│ t_0 (<span style=\"color: #0087ff; text-decoration-color: #0087ff\">Dense</span>)                     │ (<span style=\"color: #00d7ff; text-decoration-color: #00d7ff\">None</span>, <span style=\"color: #00af00; text-decoration-color: #00af00\">64</span>)             │         <span style=\"color: #00af00; text-decoration-color: #00af00\">2,944</span> │\n",
       "├─────────────────────────────────┼────────────────────────┼───────────────┤\n",
       "│ qact_t_0 (<span style=\"color: #0087ff; text-decoration-color: #0087ff\">QActivation</span>)          │ (<span style=\"color: #00d7ff; text-decoration-color: #00d7ff\">None</span>, <span style=\"color: #00af00; text-decoration-color: #00af00\">64</span>)             │             <span style=\"color: #00af00; text-decoration-color: #00af00\">0</span> │\n",
       "├─────────────────────────────────┼────────────────────────┼───────────────┤\n",
       "│ t_1 (<span style=\"color: #0087ff; text-decoration-color: #0087ff\">Dense</span>)                     │ (<span style=\"color: #00d7ff; text-decoration-color: #00d7ff\">None</span>, <span style=\"color: #00af00; text-decoration-color: #00af00\">32</span>)             │         <span style=\"color: #00af00; text-decoration-color: #00af00\">2,080</span> │\n",
       "├─────────────────────────────────┼────────────────────────┼───────────────┤\n",
       "│ t_2 (<span style=\"color: #0087ff; text-decoration-color: #0087ff\">Dense</span>)                     │ (<span style=\"color: #00d7ff; text-decoration-color: #00d7ff\">None</span>, <span style=\"color: #00af00; text-decoration-color: #00af00\">2</span>)              │            <span style=\"color: #00af00; text-decoration-color: #00af00\">66</span> │\n",
       "└─────────────────────────────────┴────────────────────────┴───────────────┘\n",
       "</pre>\n"
      ],
      "text/plain": [
       "┏━━━━━━━━━━━━━━━━━━━━━━━━━━━━━━━━━┳━━━━━━━━━━━━━━━━━━━━━━━━┳━━━━━━━━━━━━━━━┓\n",
       "┃\u001b[1m \u001b[0m\u001b[1mLayer (type)                   \u001b[0m\u001b[1m \u001b[0m┃\u001b[1m \u001b[0m\u001b[1mOutput Shape          \u001b[0m\u001b[1m \u001b[0m┃\u001b[1m \u001b[0m\u001b[1m      Param #\u001b[0m\u001b[1m \u001b[0m┃\n",
       "┡━━━━━━━━━━━━━━━━━━━━━━━━━━━━━━━━━╇━━━━━━━━━━━━━━━━━━━━━━━━╇━━━━━━━━━━━━━━━┩\n",
       "│ x (\u001b[38;5;33mInputLayer\u001b[0m)                  │ (\u001b[38;5;45mNone\u001b[0m, \u001b[38;5;34m45\u001b[0m)             │             \u001b[38;5;34m0\u001b[0m │\n",
       "├─────────────────────────────────┼────────────────────────┼───────────────┤\n",
       "│ t_0 (\u001b[38;5;33mDense\u001b[0m)                     │ (\u001b[38;5;45mNone\u001b[0m, \u001b[38;5;34m64\u001b[0m)             │         \u001b[38;5;34m2,944\u001b[0m │\n",
       "├─────────────────────────────────┼────────────────────────┼───────────────┤\n",
       "│ qact_t_0 (\u001b[38;5;33mQActivation\u001b[0m)          │ (\u001b[38;5;45mNone\u001b[0m, \u001b[38;5;34m64\u001b[0m)             │             \u001b[38;5;34m0\u001b[0m │\n",
       "├─────────────────────────────────┼────────────────────────┼───────────────┤\n",
       "│ t_1 (\u001b[38;5;33mDense\u001b[0m)                     │ (\u001b[38;5;45mNone\u001b[0m, \u001b[38;5;34m32\u001b[0m)             │         \u001b[38;5;34m2,080\u001b[0m │\n",
       "├─────────────────────────────────┼────────────────────────┼───────────────┤\n",
       "│ t_2 (\u001b[38;5;33mDense\u001b[0m)                     │ (\u001b[38;5;45mNone\u001b[0m, \u001b[38;5;34m2\u001b[0m)              │            \u001b[38;5;34m66\u001b[0m │\n",
       "└─────────────────────────────────┴────────────────────────┴───────────────┘\n"
      ]
     },
     "metadata": {},
     "output_type": "display_data"
    },
    {
     "data": {
      "text/html": [
       "<pre style=\"white-space:pre;overflow-x:auto;line-height:normal;font-family:Menlo,'DejaVu Sans Mono',consolas,'Courier New',monospace\"><span style=\"font-weight: bold\"> Total params: </span><span style=\"color: #00af00; text-decoration-color: #00af00\">5,090</span> (19.88 KB)\n",
       "</pre>\n"
      ],
      "text/plain": [
       "\u001b[1m Total params: \u001b[0m\u001b[38;5;34m5,090\u001b[0m (19.88 KB)\n"
      ]
     },
     "metadata": {},
     "output_type": "display_data"
    },
    {
     "data": {
      "text/html": [
       "<pre style=\"white-space:pre;overflow-x:auto;line-height:normal;font-family:Menlo,'DejaVu Sans Mono',consolas,'Courier New',monospace\"><span style=\"font-weight: bold\"> Trainable params: </span><span style=\"color: #00af00; text-decoration-color: #00af00\">5,090</span> (19.88 KB)\n",
       "</pre>\n"
      ],
      "text/plain": [
       "\u001b[1m Trainable params: \u001b[0m\u001b[38;5;34m5,090\u001b[0m (19.88 KB)\n"
      ]
     },
     "metadata": {},
     "output_type": "display_data"
    },
    {
     "data": {
      "text/html": [
       "<pre style=\"white-space:pre;overflow-x:auto;line-height:normal;font-family:Menlo,'DejaVu Sans Mono',consolas,'Courier New',monospace\"><span style=\"font-weight: bold\"> Non-trainable params: </span><span style=\"color: #00af00; text-decoration-color: #00af00\">0</span> (0.00 B)\n",
       "</pre>\n"
      ],
      "text/plain": [
       "\u001b[1m Non-trainable params: \u001b[0m\u001b[38;5;34m0\u001b[0m (0.00 B)\n"
      ]
     },
     "metadata": {},
     "output_type": "display_data"
    },
    {
     "name": "stdout",
     "output_type": "stream",
     "text": [
      "Epoch 1/10\n",
      "\u001b[1m3343/3343\u001b[0m \u001b[32m━━━━━━━━━━━━━━━━━━━━\u001b[0m\u001b[37m\u001b[0m \u001b[1m2s\u001b[0m 466us/step - loss: 0.5262 - qact_t_0_acc: 0.6760 - t_2_acc: 0.7701 - val_loss: 0.4590 - val_qact_t_0_acc: 0.5866 - val_t_2_acc: 0.8281\n",
      "Epoch 2/10\n",
      "\u001b[1m3343/3343\u001b[0m \u001b[32m━━━━━━━━━━━━━━━━━━━━\u001b[0m\u001b[37m\u001b[0m \u001b[1m2s\u001b[0m 457us/step - loss: 0.4555 - qact_t_0_acc: 0.5768 - t_2_acc: 0.8269 - val_loss: 0.4490 - val_qact_t_0_acc: 0.5490 - val_t_2_acc: 0.8370\n",
      "Epoch 3/10\n",
      "\u001b[1m3343/3343\u001b[0m \u001b[32m━━━━━━━━━━━━━━━━━━━━\u001b[0m\u001b[37m\u001b[0m \u001b[1m1s\u001b[0m 412us/step - loss: 0.4466 - qact_t_0_acc: 0.5452 - t_2_acc: 0.8318 - val_loss: 0.4388 - val_qact_t_0_acc: 0.5350 - val_t_2_acc: 0.8419\n",
      "Epoch 4/10\n",
      "\u001b[1m3343/3343\u001b[0m \u001b[32m━━━━━━━━━━━━━━━━━━━━\u001b[0m\u001b[37m\u001b[0m \u001b[1m1s\u001b[0m 419us/step - loss: 0.4396 - qact_t_0_acc: 0.5300 - t_2_acc: 0.8351 - val_loss: 0.4316 - val_qact_t_0_acc: 0.5202 - val_t_2_acc: 0.8449\n",
      "Epoch 5/10\n",
      "\u001b[1m3343/3343\u001b[0m \u001b[32m━━━━━━━━━━━━━━━━━━━━\u001b[0m\u001b[37m\u001b[0m \u001b[1m2s\u001b[0m 465us/step - loss: 0.4351 - qact_t_0_acc: 0.5232 - t_2_acc: 0.8371 - val_loss: 0.4340 - val_qact_t_0_acc: 0.5195 - val_t_2_acc: 0.8469\n",
      "Epoch 6/10\n",
      "\u001b[1m3343/3343\u001b[0m \u001b[32m━━━━━━━━━━━━━━━━━━━━\u001b[0m\u001b[37m\u001b[0m \u001b[1m1s\u001b[0m 391us/step - loss: 0.4359 - qact_t_0_acc: 0.5199 - t_2_acc: 0.8380 - val_loss: 0.4293 - val_qact_t_0_acc: 0.5171 - val_t_2_acc: 0.8401\n",
      "Epoch 7/10\n",
      "\u001b[1m3343/3343\u001b[0m \u001b[32m━━━━━━━━━━━━━━━━━━━━\u001b[0m\u001b[37m\u001b[0m \u001b[1m1s\u001b[0m 388us/step - loss: 0.4332 - qact_t_0_acc: 0.5146 - t_2_acc: 0.8395 - val_loss: 0.4334 - val_qact_t_0_acc: 0.5112 - val_t_2_acc: 0.8450\n",
      "Epoch 8/10\n",
      "\u001b[1m3343/3343\u001b[0m \u001b[32m━━━━━━━━━━━━━━━━━━━━\u001b[0m\u001b[37m\u001b[0m \u001b[1m1s\u001b[0m 403us/step - loss: 0.4315 - qact_t_0_acc: 0.5109 - t_2_acc: 0.8401 - val_loss: 0.4260 - val_qact_t_0_acc: 0.5054 - val_t_2_acc: 0.8455\n",
      "Epoch 9/10\n",
      "\u001b[1m3343/3343\u001b[0m \u001b[32m━━━━━━━━━━━━━━━━━━━━\u001b[0m\u001b[37m\u001b[0m \u001b[1m1s\u001b[0m 389us/step - loss: 0.4300 - qact_t_0_acc: 0.5073 - t_2_acc: 0.8428 - val_loss: 0.4345 - val_qact_t_0_acc: 0.5135 - val_t_2_acc: 0.8505\n",
      "Epoch 10/10\n",
      "\u001b[1m3343/3343\u001b[0m \u001b[32m━━━━━━━━━━━━━━━━━━━━\u001b[0m\u001b[37m\u001b[0m \u001b[1m1s\u001b[0m 415us/step - loss: 0.4301 - qact_t_0_acc: 0.5042 - t_2_acc: 0.8432 - val_loss: 0.4283 - val_qact_t_0_acc: 0.5009 - val_t_2_acc: 0.8474\n"
     ]
    }
   ],
   "source": [
    "# train the transfer model\n",
    "BMI = BinaryMI(\n",
    "    kernel_regularizer = 0.0,\n",
    "    batch_size=32,\n",
    "    hidden_layers = [64,32],\n",
    "    validation_size=0.1,\n",
    "    quantized_position=[True, False],\n",
    "    input_shape=(X_train.shape[1],),\n",
    "    verbose=1,\n",
    "    gamma=0.3,\n",
    "    print_summary=True,\n",
    "    last_layer_size=2,\n",
    "    run_eagerly=False\n",
    ")\n",
    "train_hist_BMI = BMI.fit(x_train=X_train, y_train=y_train, s_train=S_train)"
   ]
  },
  {
   "cell_type": "code",
   "execution_count": 6,
   "metadata": {},
   "outputs": [
    {
     "data": {
      "text/html": [
       "<pre style=\"white-space:pre;overflow-x:auto;line-height:normal;font-family:Menlo,'DejaVu Sans Mono',consolas,'Courier New',monospace\"><span style=\"font-weight: bold\">Model: \"BinaryMI\"</span>\n",
       "</pre>\n"
      ],
      "text/plain": [
       "\u001b[1mModel: \"BinaryMI\"\u001b[0m\n"
      ]
     },
     "metadata": {},
     "output_type": "display_data"
    },
    {
     "data": {
      "text/html": [
       "<pre style=\"white-space:pre;overflow-x:auto;line-height:normal;font-family:Menlo,'DejaVu Sans Mono',consolas,'Courier New',monospace\">┏━━━━━━━━━━━━━━━━━━━━━━━━━━━━━━━━━┳━━━━━━━━━━━━━━━━━━━━━━━━┳━━━━━━━━━━━━━━━┓\n",
       "┃<span style=\"font-weight: bold\"> Layer (type)                    </span>┃<span style=\"font-weight: bold\"> Output Shape           </span>┃<span style=\"font-weight: bold\">       Param # </span>┃\n",
       "┡━━━━━━━━━━━━━━━━━━━━━━━━━━━━━━━━━╇━━━━━━━━━━━━━━━━━━━━━━━━╇━━━━━━━━━━━━━━━┩\n",
       "│ x (<span style=\"color: #0087ff; text-decoration-color: #0087ff\">InputLayer</span>)                  │ (<span style=\"color: #00d7ff; text-decoration-color: #00d7ff\">None</span>, <span style=\"color: #00af00; text-decoration-color: #00af00\">45</span>)             │             <span style=\"color: #00af00; text-decoration-color: #00af00\">0</span> │\n",
       "├─────────────────────────────────┼────────────────────────┼───────────────┤\n",
       "│ t_0 (<span style=\"color: #0087ff; text-decoration-color: #0087ff\">Dense</span>)                     │ (<span style=\"color: #00d7ff; text-decoration-color: #00d7ff\">None</span>, <span style=\"color: #00af00; text-decoration-color: #00af00\">64</span>)             │         <span style=\"color: #00af00; text-decoration-color: #00af00\">2,944</span> │\n",
       "├─────────────────────────────────┼────────────────────────┼───────────────┤\n",
       "│ qact_t_0 (<span style=\"color: #0087ff; text-decoration-color: #0087ff\">QActivation</span>)          │ (<span style=\"color: #00d7ff; text-decoration-color: #00d7ff\">None</span>, <span style=\"color: #00af00; text-decoration-color: #00af00\">64</span>)             │             <span style=\"color: #00af00; text-decoration-color: #00af00\">0</span> │\n",
       "├─────────────────────────────────┼────────────────────────┼───────────────┤\n",
       "│ t_1 (<span style=\"color: #0087ff; text-decoration-color: #0087ff\">Dense</span>)                     │ (<span style=\"color: #00d7ff; text-decoration-color: #00d7ff\">None</span>, <span style=\"color: #00af00; text-decoration-color: #00af00\">32</span>)             │         <span style=\"color: #00af00; text-decoration-color: #00af00\">2,080</span> │\n",
       "├─────────────────────────────────┼────────────────────────┼───────────────┤\n",
       "│ t_2 (<span style=\"color: #0087ff; text-decoration-color: #0087ff\">Dense</span>)                     │ (<span style=\"color: #00d7ff; text-decoration-color: #00d7ff\">None</span>, <span style=\"color: #00af00; text-decoration-color: #00af00\">2</span>)              │            <span style=\"color: #00af00; text-decoration-color: #00af00\">66</span> │\n",
       "└─────────────────────────────────┴────────────────────────┴───────────────┘\n",
       "</pre>\n"
      ],
      "text/plain": [
       "┏━━━━━━━━━━━━━━━━━━━━━━━━━━━━━━━━━┳━━━━━━━━━━━━━━━━━━━━━━━━┳━━━━━━━━━━━━━━━┓\n",
       "┃\u001b[1m \u001b[0m\u001b[1mLayer (type)                   \u001b[0m\u001b[1m \u001b[0m┃\u001b[1m \u001b[0m\u001b[1mOutput Shape          \u001b[0m\u001b[1m \u001b[0m┃\u001b[1m \u001b[0m\u001b[1m      Param #\u001b[0m\u001b[1m \u001b[0m┃\n",
       "┡━━━━━━━━━━━━━━━━━━━━━━━━━━━━━━━━━╇━━━━━━━━━━━━━━━━━━━━━━━━╇━━━━━━━━━━━━━━━┩\n",
       "│ x (\u001b[38;5;33mInputLayer\u001b[0m)                  │ (\u001b[38;5;45mNone\u001b[0m, \u001b[38;5;34m45\u001b[0m)             │             \u001b[38;5;34m0\u001b[0m │\n",
       "├─────────────────────────────────┼────────────────────────┼───────────────┤\n",
       "│ t_0 (\u001b[38;5;33mDense\u001b[0m)                     │ (\u001b[38;5;45mNone\u001b[0m, \u001b[38;5;34m64\u001b[0m)             │         \u001b[38;5;34m2,944\u001b[0m │\n",
       "├─────────────────────────────────┼────────────────────────┼───────────────┤\n",
       "│ qact_t_0 (\u001b[38;5;33mQActivation\u001b[0m)          │ (\u001b[38;5;45mNone\u001b[0m, \u001b[38;5;34m64\u001b[0m)             │             \u001b[38;5;34m0\u001b[0m │\n",
       "├─────────────────────────────────┼────────────────────────┼───────────────┤\n",
       "│ t_1 (\u001b[38;5;33mDense\u001b[0m)                     │ (\u001b[38;5;45mNone\u001b[0m, \u001b[38;5;34m32\u001b[0m)             │         \u001b[38;5;34m2,080\u001b[0m │\n",
       "├─────────────────────────────────┼────────────────────────┼───────────────┤\n",
       "│ t_2 (\u001b[38;5;33mDense\u001b[0m)                     │ (\u001b[38;5;45mNone\u001b[0m, \u001b[38;5;34m2\u001b[0m)              │            \u001b[38;5;34m66\u001b[0m │\n",
       "└─────────────────────────────────┴────────────────────────┴───────────────┘\n"
      ]
     },
     "metadata": {},
     "output_type": "display_data"
    },
    {
     "data": {
      "text/html": [
       "<pre style=\"white-space:pre;overflow-x:auto;line-height:normal;font-family:Menlo,'DejaVu Sans Mono',consolas,'Courier New',monospace\"><span style=\"font-weight: bold\"> Total params: </span><span style=\"color: #00af00; text-decoration-color: #00af00\">5,090</span> (19.88 KB)\n",
       "</pre>\n"
      ],
      "text/plain": [
       "\u001b[1m Total params: \u001b[0m\u001b[38;5;34m5,090\u001b[0m (19.88 KB)\n"
      ]
     },
     "metadata": {},
     "output_type": "display_data"
    },
    {
     "data": {
      "text/html": [
       "<pre style=\"white-space:pre;overflow-x:auto;line-height:normal;font-family:Menlo,'DejaVu Sans Mono',consolas,'Courier New',monospace\"><span style=\"font-weight: bold\"> Trainable params: </span><span style=\"color: #00af00; text-decoration-color: #00af00\">5,090</span> (19.88 KB)\n",
       "</pre>\n"
      ],
      "text/plain": [
       "\u001b[1m Trainable params: \u001b[0m\u001b[38;5;34m5,090\u001b[0m (19.88 KB)\n"
      ]
     },
     "metadata": {},
     "output_type": "display_data"
    },
    {
     "data": {
      "text/html": [
       "<pre style=\"white-space:pre;overflow-x:auto;line-height:normal;font-family:Menlo,'DejaVu Sans Mono',consolas,'Courier New',monospace\"><span style=\"font-weight: bold\"> Non-trainable params: </span><span style=\"color: #00af00; text-decoration-color: #00af00\">0</span> (0.00 B)\n",
       "</pre>\n"
      ],
      "text/plain": [
       "\u001b[1m Non-trainable params: \u001b[0m\u001b[38;5;34m0\u001b[0m (0.00 B)\n"
      ]
     },
     "metadata": {},
     "output_type": "display_data"
    },
    {
     "name": "stdout",
     "output_type": "stream",
     "text": [
      "Epoch 1/10\n",
      "\u001b[1m3343/3343\u001b[0m \u001b[32m━━━━━━━━━━━━━━━━━━━━\u001b[0m\u001b[37m\u001b[0m \u001b[1m2s\u001b[0m 432us/step - loss: 0.3959 - qact_t_0_acc: 0.7412 - t_2_acc: 0.8194 - val_loss: 0.3132 - val_qact_t_0_acc: 0.7438 - val_t_2_acc: 0.8561\n",
      "Epoch 2/10\n",
      "\u001b[1m3343/3343\u001b[0m \u001b[32m━━━━━━━━━━━━━━━━━━━━\u001b[0m\u001b[37m\u001b[0m \u001b[1m1s\u001b[0m 421us/step - loss: 0.3133 - qact_t_0_acc: 0.7451 - t_2_acc: 0.8578 - val_loss: 0.2958 - val_qact_t_0_acc: 0.7425 - val_t_2_acc: 0.8705\n",
      "Epoch 3/10\n",
      "\u001b[1m3343/3343\u001b[0m \u001b[32m━━━━━━━━━━━━━━━━━━━━\u001b[0m\u001b[37m\u001b[0m \u001b[1m1s\u001b[0m 409us/step - loss: 0.3042 - qact_t_0_acc: 0.7374 - t_2_acc: 0.8645 - val_loss: 0.2871 - val_qact_t_0_acc: 0.7284 - val_t_2_acc: 0.8739\n",
      "Epoch 4/10\n",
      "\u001b[1m3343/3343\u001b[0m \u001b[32m━━━━━━━━━━━━━━━━━━━━\u001b[0m\u001b[37m\u001b[0m \u001b[1m1s\u001b[0m 425us/step - loss: 0.2901 - qact_t_0_acc: 0.7271 - t_2_acc: 0.8716 - val_loss: 0.2786 - val_qact_t_0_acc: 0.7193 - val_t_2_acc: 0.8766\n",
      "Epoch 5/10\n",
      "\u001b[1m3343/3343\u001b[0m \u001b[32m━━━━━━━━━━━━━━━━━━━━\u001b[0m\u001b[37m\u001b[0m \u001b[1m1s\u001b[0m 399us/step - loss: 0.2920 - qact_t_0_acc: 0.7182 - t_2_acc: 0.8707 - val_loss: 0.2753 - val_qact_t_0_acc: 0.7156 - val_t_2_acc: 0.8818\n",
      "Epoch 6/10\n",
      "\u001b[1m3343/3343\u001b[0m \u001b[32m━━━━━━━━━━━━━━━━━━━━\u001b[0m\u001b[37m\u001b[0m \u001b[1m1s\u001b[0m 410us/step - loss: 0.2846 - qact_t_0_acc: 0.7155 - t_2_acc: 0.8749 - val_loss: 0.2744 - val_qact_t_0_acc: 0.7091 - val_t_2_acc: 0.8791\n",
      "Epoch 7/10\n",
      "\u001b[1m3343/3343\u001b[0m \u001b[32m━━━━━━━━━━━━━━━━━━━━\u001b[0m\u001b[37m\u001b[0m \u001b[1m1s\u001b[0m 402us/step - loss: 0.2823 - qact_t_0_acc: 0.7093 - t_2_acc: 0.8762 - val_loss: 0.2733 - val_qact_t_0_acc: 0.7086 - val_t_2_acc: 0.8805\n",
      "Epoch 8/10\n",
      "\u001b[1m3343/3343\u001b[0m \u001b[32m━━━━━━━━━━━━━━━━━━━━\u001b[0m\u001b[37m\u001b[0m \u001b[1m1s\u001b[0m 419us/step - loss: 0.2802 - qact_t_0_acc: 0.7092 - t_2_acc: 0.8767 - val_loss: 0.2696 - val_qact_t_0_acc: 0.7117 - val_t_2_acc: 0.8800\n",
      "Epoch 9/10\n",
      "\u001b[1m3343/3343\u001b[0m \u001b[32m━━━━━━━━━━━━━━━━━━━━\u001b[0m\u001b[37m\u001b[0m \u001b[1m1s\u001b[0m 413us/step - loss: 0.2805 - qact_t_0_acc: 0.7074 - t_2_acc: 0.8771 - val_loss: 0.2731 - val_qact_t_0_acc: 0.7083 - val_t_2_acc: 0.8803\n",
      "Epoch 10/10\n",
      "\u001b[1m3343/3343\u001b[0m \u001b[32m━━━━━━━━━━━━━━━━━━━━\u001b[0m\u001b[37m\u001b[0m \u001b[1m1s\u001b[0m 443us/step - loss: 0.2779 - qact_t_0_acc: 0.7056 - t_2_acc: 0.8780 - val_loss: 0.2668 - val_qact_t_0_acc: 0.7157 - val_t_2_acc: 0.8831\n"
     ]
    }
   ],
   "source": [
    "# train a simple NN\n",
    "NN = BinaryMI(\n",
    "    kernel_regularizer = 0.0,\n",
    "    batch_size=32,\n",
    "    hidden_layers = [64,32],\n",
    "    validation_size=0.1,\n",
    "    quantized_position=[True, False],\n",
    "    input_shape=(X_train.shape[1],),\n",
    "    verbose=1,\n",
    "    gamma=0.0,\n",
    "    print_summary=True,\n",
    "    last_layer_size=2,\n",
    "    run_eagerly=False\n",
    ")\n",
    "train_hist_NN = NN.fit(x_train=X_train, y_train=y_train, s_train=S_train)"
   ]
  },
  {
   "cell_type": "code",
   "execution_count": 8,
   "metadata": {},
   "outputs": [
    {
     "data": {
      "text/html": [
       "<pre style=\"white-space:pre;overflow-x:auto;line-height:normal;font-family:Menlo,'DejaVu Sans Mono',consolas,'Courier New',monospace\"><span style=\"font-weight: bold\">Model: \"nn\"</span>\n",
       "</pre>\n"
      ],
      "text/plain": [
       "\u001b[1mModel: \"nn\"\u001b[0m\n"
      ]
     },
     "metadata": {},
     "output_type": "display_data"
    },
    {
     "data": {
      "text/html": [
       "<pre style=\"white-space:pre;overflow-x:auto;line-height:normal;font-family:Menlo,'DejaVu Sans Mono',consolas,'Courier New',monospace\">┏━━━━━━━━━━━━━━━━━━━━━━━━━━━━━━━━━┳━━━━━━━━━━━━━━━━━━━━━━━━┳━━━━━━━━━━━━━━━┓\n",
       "┃<span style=\"font-weight: bold\"> Layer (type)                    </span>┃<span style=\"font-weight: bold\"> Output Shape           </span>┃<span style=\"font-weight: bold\">       Param # </span>┃\n",
       "┡━━━━━━━━━━━━━━━━━━━━━━━━━━━━━━━━━╇━━━━━━━━━━━━━━━━━━━━━━━━╇━━━━━━━━━━━━━━━┩\n",
       "│ input (<span style=\"color: #0087ff; text-decoration-color: #0087ff\">InputLayer</span>)              │ (<span style=\"color: #00d7ff; text-decoration-color: #00d7ff\">None</span>, <span style=\"color: #00af00; text-decoration-color: #00af00\">45</span>)             │             <span style=\"color: #00af00; text-decoration-color: #00af00\">0</span> │\n",
       "├─────────────────────────────────┼────────────────────────┼───────────────┤\n",
       "│ nn_nn_0 (<span style=\"color: #0087ff; text-decoration-color: #0087ff\">Dense</span>)                 │ (<span style=\"color: #00d7ff; text-decoration-color: #00d7ff\">None</span>, <span style=\"color: #00af00; text-decoration-color: #00af00\">64</span>)             │         <span style=\"color: #00af00; text-decoration-color: #00af00\">2,944</span> │\n",
       "├─────────────────────────────────┼────────────────────────┼───────────────┤\n",
       "│ nn_nn_1 (<span style=\"color: #0087ff; text-decoration-color: #0087ff\">Dense</span>)                 │ (<span style=\"color: #00d7ff; text-decoration-color: #00d7ff\">None</span>, <span style=\"color: #00af00; text-decoration-color: #00af00\">32</span>)             │         <span style=\"color: #00af00; text-decoration-color: #00af00\">2,080</span> │\n",
       "└─────────────────────────────────┴────────────────────────┴───────────────┘\n",
       "</pre>\n"
      ],
      "text/plain": [
       "┏━━━━━━━━━━━━━━━━━━━━━━━━━━━━━━━━━┳━━━━━━━━━━━━━━━━━━━━━━━━┳━━━━━━━━━━━━━━━┓\n",
       "┃\u001b[1m \u001b[0m\u001b[1mLayer (type)                   \u001b[0m\u001b[1m \u001b[0m┃\u001b[1m \u001b[0m\u001b[1mOutput Shape          \u001b[0m\u001b[1m \u001b[0m┃\u001b[1m \u001b[0m\u001b[1m      Param #\u001b[0m\u001b[1m \u001b[0m┃\n",
       "┡━━━━━━━━━━━━━━━━━━━━━━━━━━━━━━━━━╇━━━━━━━━━━━━━━━━━━━━━━━━╇━━━━━━━━━━━━━━━┩\n",
       "│ input (\u001b[38;5;33mInputLayer\u001b[0m)              │ (\u001b[38;5;45mNone\u001b[0m, \u001b[38;5;34m45\u001b[0m)             │             \u001b[38;5;34m0\u001b[0m │\n",
       "├─────────────────────────────────┼────────────────────────┼───────────────┤\n",
       "│ nn_nn_0 (\u001b[38;5;33mDense\u001b[0m)                 │ (\u001b[38;5;45mNone\u001b[0m, \u001b[38;5;34m64\u001b[0m)             │         \u001b[38;5;34m2,944\u001b[0m │\n",
       "├─────────────────────────────────┼────────────────────────┼───────────────┤\n",
       "│ nn_nn_1 (\u001b[38;5;33mDense\u001b[0m)                 │ (\u001b[38;5;45mNone\u001b[0m, \u001b[38;5;34m32\u001b[0m)             │         \u001b[38;5;34m2,080\u001b[0m │\n",
       "└─────────────────────────────────┴────────────────────────┴───────────────┘\n"
      ]
     },
     "metadata": {},
     "output_type": "display_data"
    },
    {
     "data": {
      "text/html": [
       "<pre style=\"white-space:pre;overflow-x:auto;line-height:normal;font-family:Menlo,'DejaVu Sans Mono',consolas,'Courier New',monospace\"><span style=\"font-weight: bold\"> Total params: </span><span style=\"color: #00af00; text-decoration-color: #00af00\">5,024</span> (19.62 KB)\n",
       "</pre>\n"
      ],
      "text/plain": [
       "\u001b[1m Total params: \u001b[0m\u001b[38;5;34m5,024\u001b[0m (19.62 KB)\n"
      ]
     },
     "metadata": {},
     "output_type": "display_data"
    },
    {
     "data": {
      "text/html": [
       "<pre style=\"white-space:pre;overflow-x:auto;line-height:normal;font-family:Menlo,'DejaVu Sans Mono',consolas,'Courier New',monospace\"><span style=\"font-weight: bold\"> Trainable params: </span><span style=\"color: #00af00; text-decoration-color: #00af00\">5,024</span> (19.62 KB)\n",
       "</pre>\n"
      ],
      "text/plain": [
       "\u001b[1m Trainable params: \u001b[0m\u001b[38;5;34m5,024\u001b[0m (19.62 KB)\n"
      ]
     },
     "metadata": {},
     "output_type": "display_data"
    },
    {
     "data": {
      "text/html": [
       "<pre style=\"white-space:pre;overflow-x:auto;line-height:normal;font-family:Menlo,'DejaVu Sans Mono',consolas,'Courier New',monospace\"><span style=\"font-weight: bold\"> Non-trainable params: </span><span style=\"color: #00af00; text-decoration-color: #00af00\">0</span> (0.00 B)\n",
       "</pre>\n"
      ],
      "text/plain": [
       "\u001b[1m Non-trainable params: \u001b[0m\u001b[38;5;34m0\u001b[0m (0.00 B)\n"
      ]
     },
     "metadata": {},
     "output_type": "display_data"
    },
    {
     "data": {
      "text/html": [
       "<pre style=\"white-space:pre;overflow-x:auto;line-height:normal;font-family:Menlo,'DejaVu Sans Mono',consolas,'Courier New',monospace\"><span style=\"font-weight: bold\">Model: \"DebiasClassifier\"</span>\n",
       "</pre>\n"
      ],
      "text/plain": [
       "\u001b[1mModel: \"DebiasClassifier\"\u001b[0m\n"
      ]
     },
     "metadata": {},
     "output_type": "display_data"
    },
    {
     "data": {
      "text/html": [
       "<pre style=\"white-space:pre;overflow-x:auto;line-height:normal;font-family:Menlo,'DejaVu Sans Mono',consolas,'Courier New',monospace\">┏━━━━━━━━━━━━━━━━━━━━━┳━━━━━━━━━━━━━━━━━━━┳━━━━━━━━━━━━┳━━━━━━━━━━━━━━━━━━━┓\n",
       "┃<span style=\"font-weight: bold\"> Layer (type)        </span>┃<span style=\"font-weight: bold\"> Output Shape      </span>┃<span style=\"font-weight: bold\">    Param # </span>┃<span style=\"font-weight: bold\"> Connected to      </span>┃\n",
       "┡━━━━━━━━━━━━━━━━━━━━━╇━━━━━━━━━━━━━━━━━━━╇━━━━━━━━━━━━╇━━━━━━━━━━━━━━━━━━━┩\n",
       "│ x0 (<span style=\"color: #0087ff; text-decoration-color: #0087ff\">InputLayer</span>)     │ (<span style=\"color: #00d7ff; text-decoration-color: #00d7ff\">None</span>, <span style=\"color: #00af00; text-decoration-color: #00af00\">45</span>)        │          <span style=\"color: #00af00; text-decoration-color: #00af00\">0</span> │ -                 │\n",
       "├─────────────────────┼───────────────────┼────────────┼───────────────────┤\n",
       "│ nn (<span style=\"color: #0087ff; text-decoration-color: #0087ff\">Functional</span>)     │ (<span style=\"color: #00d7ff; text-decoration-color: #00d7ff\">None</span>, <span style=\"color: #00af00; text-decoration-color: #00af00\">32</span>)        │      <span style=\"color: #00af00; text-decoration-color: #00af00\">5,024</span> │ x0[<span style=\"color: #00af00; text-decoration-color: #00af00\">0</span>][<span style=\"color: #00af00; text-decoration-color: #00af00\">0</span>]          │\n",
       "├─────────────────────┼───────────────────┼────────────┼───────────────────┤\n",
       "│ grad_reverse_1      │ (<span style=\"color: #00d7ff; text-decoration-color: #00d7ff\">None</span>, <span style=\"color: #00af00; text-decoration-color: #00af00\">32</span>)        │          <span style=\"color: #00af00; text-decoration-color: #00af00\">0</span> │ nn[<span style=\"color: #00af00; text-decoration-color: #00af00\">0</span>][<span style=\"color: #00af00; text-decoration-color: #00af00\">0</span>]          │\n",
       "│ (<span style=\"color: #0087ff; text-decoration-color: #0087ff\">GradReverse</span>)       │                   │            │                   │\n",
       "├─────────────────────┼───────────────────┼────────────┼───────────────────┤\n",
       "│ nn_bias_0 (<span style=\"color: #0087ff; text-decoration-color: #0087ff\">Dense</span>)   │ (<span style=\"color: #00d7ff; text-decoration-color: #00d7ff\">None</span>, <span style=\"color: #00af00; text-decoration-color: #00af00\">10</span>)        │        <span style=\"color: #00af00; text-decoration-color: #00af00\">330</span> │ grad_reverse_1[<span style=\"color: #00af00; text-decoration-color: #00af00\">0</span>… │\n",
       "├─────────────────────┼───────────────────┼────────────┼───────────────────┤\n",
       "│ cls_part (<span style=\"color: #0087ff; text-decoration-color: #0087ff\">Dense</span>)    │ (<span style=\"color: #00d7ff; text-decoration-color: #00d7ff\">None</span>, <span style=\"color: #00af00; text-decoration-color: #00af00\">1</span>)         │         <span style=\"color: #00af00; text-decoration-color: #00af00\">33</span> │ nn[<span style=\"color: #00af00; text-decoration-color: #00af00\">0</span>][<span style=\"color: #00af00; text-decoration-color: #00af00\">0</span>]          │\n",
       "├─────────────────────┼───────────────────┼────────────┼───────────────────┤\n",
       "│ nn_out_bias (<span style=\"color: #0087ff; text-decoration-color: #0087ff\">Dense</span>) │ (<span style=\"color: #00d7ff; text-decoration-color: #00d7ff\">None</span>, <span style=\"color: #00af00; text-decoration-color: #00af00\">1</span>)         │         <span style=\"color: #00af00; text-decoration-color: #00af00\">11</span> │ nn_bias_0[<span style=\"color: #00af00; text-decoration-color: #00af00\">0</span>][<span style=\"color: #00af00; text-decoration-color: #00af00\">0</span>]   │\n",
       "└─────────────────────┴───────────────────┴────────────┴───────────────────┘\n",
       "</pre>\n"
      ],
      "text/plain": [
       "┏━━━━━━━━━━━━━━━━━━━━━┳━━━━━━━━━━━━━━━━━━━┳━━━━━━━━━━━━┳━━━━━━━━━━━━━━━━━━━┓\n",
       "┃\u001b[1m \u001b[0m\u001b[1mLayer (type)       \u001b[0m\u001b[1m \u001b[0m┃\u001b[1m \u001b[0m\u001b[1mOutput Shape     \u001b[0m\u001b[1m \u001b[0m┃\u001b[1m \u001b[0m\u001b[1m   Param #\u001b[0m\u001b[1m \u001b[0m┃\u001b[1m \u001b[0m\u001b[1mConnected to     \u001b[0m\u001b[1m \u001b[0m┃\n",
       "┡━━━━━━━━━━━━━━━━━━━━━╇━━━━━━━━━━━━━━━━━━━╇━━━━━━━━━━━━╇━━━━━━━━━━━━━━━━━━━┩\n",
       "│ x0 (\u001b[38;5;33mInputLayer\u001b[0m)     │ (\u001b[38;5;45mNone\u001b[0m, \u001b[38;5;34m45\u001b[0m)        │          \u001b[38;5;34m0\u001b[0m │ -                 │\n",
       "├─────────────────────┼───────────────────┼────────────┼───────────────────┤\n",
       "│ nn (\u001b[38;5;33mFunctional\u001b[0m)     │ (\u001b[38;5;45mNone\u001b[0m, \u001b[38;5;34m32\u001b[0m)        │      \u001b[38;5;34m5,024\u001b[0m │ x0[\u001b[38;5;34m0\u001b[0m][\u001b[38;5;34m0\u001b[0m]          │\n",
       "├─────────────────────┼───────────────────┼────────────┼───────────────────┤\n",
       "│ grad_reverse_1      │ (\u001b[38;5;45mNone\u001b[0m, \u001b[38;5;34m32\u001b[0m)        │          \u001b[38;5;34m0\u001b[0m │ nn[\u001b[38;5;34m0\u001b[0m][\u001b[38;5;34m0\u001b[0m]          │\n",
       "│ (\u001b[38;5;33mGradReverse\u001b[0m)       │                   │            │                   │\n",
       "├─────────────────────┼───────────────────┼────────────┼───────────────────┤\n",
       "│ nn_bias_0 (\u001b[38;5;33mDense\u001b[0m)   │ (\u001b[38;5;45mNone\u001b[0m, \u001b[38;5;34m10\u001b[0m)        │        \u001b[38;5;34m330\u001b[0m │ grad_reverse_1[\u001b[38;5;34m0\u001b[0m… │\n",
       "├─────────────────────┼───────────────────┼────────────┼───────────────────┤\n",
       "│ cls_part (\u001b[38;5;33mDense\u001b[0m)    │ (\u001b[38;5;45mNone\u001b[0m, \u001b[38;5;34m1\u001b[0m)         │         \u001b[38;5;34m33\u001b[0m │ nn[\u001b[38;5;34m0\u001b[0m][\u001b[38;5;34m0\u001b[0m]          │\n",
       "├─────────────────────┼───────────────────┼────────────┼───────────────────┤\n",
       "│ nn_out_bias (\u001b[38;5;33mDense\u001b[0m) │ (\u001b[38;5;45mNone\u001b[0m, \u001b[38;5;34m1\u001b[0m)         │         \u001b[38;5;34m11\u001b[0m │ nn_bias_0[\u001b[38;5;34m0\u001b[0m][\u001b[38;5;34m0\u001b[0m]   │\n",
       "└─────────────────────┴───────────────────┴────────────┴───────────────────┘\n"
      ]
     },
     "metadata": {},
     "output_type": "display_data"
    },
    {
     "data": {
      "text/html": [
       "<pre style=\"white-space:pre;overflow-x:auto;line-height:normal;font-family:Menlo,'DejaVu Sans Mono',consolas,'Courier New',monospace\"><span style=\"font-weight: bold\"> Total params: </span><span style=\"color: #00af00; text-decoration-color: #00af00\">5,398</span> (21.09 KB)\n",
       "</pre>\n"
      ],
      "text/plain": [
       "\u001b[1m Total params: \u001b[0m\u001b[38;5;34m5,398\u001b[0m (21.09 KB)\n"
      ]
     },
     "metadata": {},
     "output_type": "display_data"
    },
    {
     "data": {
      "text/html": [
       "<pre style=\"white-space:pre;overflow-x:auto;line-height:normal;font-family:Menlo,'DejaVu Sans Mono',consolas,'Courier New',monospace\"><span style=\"font-weight: bold\"> Trainable params: </span><span style=\"color: #00af00; text-decoration-color: #00af00\">5,398</span> (21.09 KB)\n",
       "</pre>\n"
      ],
      "text/plain": [
       "\u001b[1m Trainable params: \u001b[0m\u001b[38;5;34m5,398\u001b[0m (21.09 KB)\n"
      ]
     },
     "metadata": {},
     "output_type": "display_data"
    },
    {
     "data": {
      "text/html": [
       "<pre style=\"white-space:pre;overflow-x:auto;line-height:normal;font-family:Menlo,'DejaVu Sans Mono',consolas,'Courier New',monospace\"><span style=\"font-weight: bold\"> Non-trainable params: </span><span style=\"color: #00af00; text-decoration-color: #00af00\">0</span> (0.00 B)\n",
       "</pre>\n"
      ],
      "text/plain": [
       "\u001b[1m Non-trainable params: \u001b[0m\u001b[38;5;34m0\u001b[0m (0.00 B)\n"
      ]
     },
     "metadata": {},
     "output_type": "display_data"
    },
    {
     "name": "stdout",
     "output_type": "stream",
     "text": [
      "Epoch 1/10\n",
      "\u001b[1m3343/3343\u001b[0m \u001b[32m━━━━━━━━━━━━━━━━━━━━\u001b[0m\u001b[37m\u001b[0m \u001b[1m2s\u001b[0m 429us/step - cls_part_AUC: 0.9035 - loss: 0.3406 - nn_out_bias_acc: 0.8103 - val_cls_part_AUC: 0.9409 - val_loss: 0.2627 - val_nn_out_bias_acc: 0.8830\n",
      "Epoch 2/10\n",
      "\u001b[1m3343/3343\u001b[0m \u001b[32m━━━━━━━━━━━━━━━━━━━━\u001b[0m\u001b[37m\u001b[0m \u001b[1m1s\u001b[0m 390us/step - cls_part_AUC: 0.9370 - loss: 0.2690 - nn_out_bias_acc: 0.8795 - val_cls_part_AUC: 0.9470 - val_loss: 0.2502 - val_nn_out_bias_acc: 0.8885\n",
      "Epoch 3/10\n",
      "\u001b[1m3343/3343\u001b[0m \u001b[32m━━━━━━━━━━━━━━━━━━━━\u001b[0m\u001b[37m\u001b[0m \u001b[1m1s\u001b[0m 406us/step - cls_part_AUC: 0.9425 - loss: 0.2582 - nn_out_bias_acc: 0.8843 - val_cls_part_AUC: 0.9498 - val_loss: 0.2442 - val_nn_out_bias_acc: 0.8915\n",
      "Epoch 4/10\n",
      "\u001b[1m3343/3343\u001b[0m \u001b[32m━━━━━━━━━━━━━━━━━━━━\u001b[0m\u001b[37m\u001b[0m \u001b[1m1s\u001b[0m 375us/step - cls_part_AUC: 0.9454 - loss: 0.2524 - nn_out_bias_acc: 0.8873 - val_cls_part_AUC: 0.9515 - val_loss: 0.2406 - val_nn_out_bias_acc: 0.8935\n",
      "Epoch 5/10\n",
      "\u001b[1m3343/3343\u001b[0m \u001b[32m━━━━━━━━━━━━━━━━━━━━\u001b[0m\u001b[37m\u001b[0m \u001b[1m1s\u001b[0m 401us/step - cls_part_AUC: 0.9473 - loss: 0.2485 - nn_out_bias_acc: 0.8887 - val_cls_part_AUC: 0.9527 - val_loss: 0.2379 - val_nn_out_bias_acc: 0.8951\n",
      "Epoch 6/10\n",
      "\u001b[1m3343/3343\u001b[0m \u001b[32m━━━━━━━━━━━━━━━━━━━━\u001b[0m\u001b[37m\u001b[0m \u001b[1m1s\u001b[0m 396us/step - cls_part_AUC: 0.9487 - loss: 0.2457 - nn_out_bias_acc: 0.8895 - val_cls_part_AUC: 0.9536 - val_loss: 0.2359 - val_nn_out_bias_acc: 0.8958\n",
      "Epoch 7/10\n",
      "\u001b[1m3343/3343\u001b[0m \u001b[32m━━━━━━━━━━━━━━━━━━━━\u001b[0m\u001b[37m\u001b[0m \u001b[1m1s\u001b[0m 388us/step - cls_part_AUC: 0.9498 - loss: 0.2434 - nn_out_bias_acc: 0.8904 - val_cls_part_AUC: 0.9543 - val_loss: 0.2342 - val_nn_out_bias_acc: 0.8972\n",
      "Epoch 8/10\n",
      "\u001b[1m3343/3343\u001b[0m \u001b[32m━━━━━━━━━━━━━━━━━━━━\u001b[0m\u001b[37m\u001b[0m \u001b[1m1s\u001b[0m 397us/step - cls_part_AUC: 0.9506 - loss: 0.2416 - nn_out_bias_acc: 0.8913 - val_cls_part_AUC: 0.9550 - val_loss: 0.2328 - val_nn_out_bias_acc: 0.8968\n",
      "Epoch 9/10\n",
      "\u001b[1m3343/3343\u001b[0m \u001b[32m━━━━━━━━━━━━━━━━━━━━\u001b[0m\u001b[37m\u001b[0m \u001b[1m1s\u001b[0m 377us/step - cls_part_AUC: 0.9513 - loss: 0.2400 - nn_out_bias_acc: 0.8922 - val_cls_part_AUC: 0.9556 - val_loss: 0.2316 - val_nn_out_bias_acc: 0.8974\n",
      "Epoch 10/10\n",
      "\u001b[1m3343/3343\u001b[0m \u001b[32m━━━━━━━━━━━━━━━━━━━━\u001b[0m\u001b[37m\u001b[0m \u001b[1m1s\u001b[0m 392us/step - cls_part_AUC: 0.9520 - loss: 0.2387 - nn_out_bias_acc: 0.8928 - val_cls_part_AUC: 0.9560 - val_loss: 0.2305 - val_nn_out_bias_acc: 0.8981\n"
     ]
    }
   ],
   "source": [
    "# train a DebiasClassifier\n",
    "DCls = DebiasClassifier(\n",
    "    kernel_regularizer=0.0,\n",
    "    batch_size=32,\n",
    "    validation_size=0.1,\n",
    "    hidden_layers=[64,32],\n",
    "    bias_layers=[10],\n",
    "    verbose=1,\n",
    "    gamma=0.2,\n",
    "    print_summary=True,\n",
    "    run_eagerly=False\n",
    ")\n",
    "train_hist_DCls = DCls.fit(x=X_train, y=y_train, s=S_train)"
   ]
  },
  {
   "cell_type": "code",
   "execution_count": 9,
   "metadata": {},
   "outputs": [],
   "source": [
    "# following code is based on: https://www.kaggle.com/code/matteomonzali/nn-model\n",
    "\n",
    "def __rolling_window(data, window_size):\n",
    "    \"\"\"\n",
    "    Rolling window: take window with definite size through the array\n",
    "\n",
    "    :param data: array-like\n",
    "    :param window_size: size\n",
    "    :return: the sequence of windows\n",
    "\n",
    "    Example: data = array(1, 2, 3, 4, 5, 6), window_size = 4\n",
    "        Then this function return array(array(1, 2, 3, 4), array(2, 3, 4, 5), array(3, 4, 5, 6))\n",
    "    \"\"\"\n",
    "    shape = data.shape[:-1] + (data.shape[-1] - window_size + 1, window_size)\n",
    "    strides = data.strides + (data.strides[-1],)\n",
    "    return np.lib.stride_tricks.as_strided(data, shape=shape, strides=strides)\n",
    "\n",
    "\n",
    "def __cvm(subindices, total_events):\n",
    "    \"\"\"\n",
    "    Compute Cramer-von Mises metric.\n",
    "    Compared two distributions, where first is subset of second one.\n",
    "    Assuming that second is ordered by ascending\n",
    "\n",
    "    :param subindices: indices of events which will be associated with the first distribution\n",
    "    :param total_events: count of events in the second distribution\n",
    "    :return: cvm metric\n",
    "    \"\"\"\n",
    "    target_distribution = np.arange(1, total_events + 1, dtype='float') / total_events\n",
    "    subarray_distribution = np.cumsum(np.bincount(subindices, minlength=total_events), dtype='float')\n",
    "    subarray_distribution /= 1.0 * subarray_distribution[-1]\n",
    "    return np.mean((target_distribution - subarray_distribution) ** 2)\n",
    "\n",
    "\n",
    "def compute_cvm(predictions, masses, n_neighbours=200, step=50):\n",
    "    \"\"\"\n",
    "    Computing Cramer-von Mises (cvm) metric on background events: take average of cvms calculated for each mass bin.\n",
    "    In each mass bin global prediction's cdf is compared to prediction's cdf in mass bin.\n",
    "\n",
    "    :param predictions: array-like, predictions\n",
    "    :param masses: array-like, in case of Kaggle tau23mu this is reconstructed mass\n",
    "    :param n_neighbours: count of neighbours for event to define mass bin\n",
    "    :param step: step through sorted mass-array to define next center of bin\n",
    "    :return: average cvm value\n",
    "    \"\"\"\n",
    "    predictions = np.array(predictions)\n",
    "    masses = np.array(masses)\n",
    "    assert len(predictions) == len(masses)\n",
    "\n",
    "    # First, reorder by masses\n",
    "    predictions = predictions[np.argsort(masses)]\n",
    "\n",
    "    # Second, replace probabilities with order of probability among other events\n",
    "    predictions = np.argsort(np.argsort(predictions, kind='mergesort'), kind='mergesort')\n",
    "\n",
    "    # Now, each window forms a group, and we can compute contribution of each group to CvM\n",
    "    cvms = []\n",
    "    for window in __rolling_window(predictions, window_size=n_neighbours)[::step]:\n",
    "        cvms.append(__cvm(subindices=window, total_events=len(predictions)))\n",
    "    return np.mean(cvms)\n",
    "\n",
    "\n",
    "def __roc_curve_splitted(data_zero, data_one, sample_weights_zero, sample_weights_one):\n",
    "    \"\"\"\n",
    "    Compute roc curve\n",
    "\n",
    "    :param data_zero: 0-labeled data\n",
    "    :param data_one:  1-labeled data\n",
    "    :param sample_weights_zero: weights for 0-labeled data\n",
    "    :param sample_weights_one:  weights for 1-labeled data\n",
    "    :return: roc curve\n",
    "    \"\"\"\n",
    "    labels = [0] * len(data_zero) + [1] * len(data_one)\n",
    "    weights = np.concatenate([sample_weights_zero, sample_weights_one])\n",
    "    data_all = np.concatenate([data_zero, data_one])\n",
    "    fpr, tpr, _ = roc_curve(labels, data_all, sample_weight=weights)\n",
    "    return fpr, tpr\n",
    "\n",
    "\n",
    "def compute_ks(data_prediction, mc_prediction, weights_data, weights_mc):\n",
    "    \"\"\"\n",
    "    Compute Kolmogorov-Smirnov (ks) distance between real data predictions cdf and Monte Carlo one.\n",
    "\n",
    "    :param data_prediction: array-like, real data predictions\n",
    "    :param mc_prediction: array-like, Monte Carlo data predictions\n",
    "    :param weights_data: array-like, real data weights\n",
    "    :param weights_mc: array-like, Monte Carlo weights\n",
    "    :return: ks value\n",
    "    \"\"\"\n",
    "    assert len(data_prediction) == len(weights_data), 'Data length and weight one must be the same'\n",
    "    assert len(mc_prediction) == len(weights_mc), 'Data length and weight one must be the same'\n",
    "\n",
    "    data_prediction, mc_prediction = np.array(data_prediction), np.array(mc_prediction)\n",
    "    weights_data, weights_mc = np.array(weights_data), np.array(weights_mc)\n",
    "\n",
    "    assert np.all(data_prediction >= 0.) and np.all(data_prediction <= 1.), 'Data predictions are out of range [0, 1]'\n",
    "    assert np.all(mc_prediction >= 0.) and np.all(mc_prediction <= 1.), 'MC predictions are out of range [0, 1]'\n",
    "\n",
    "    weights_data /= np.sum(weights_data)\n",
    "    weights_mc /= np.sum(weights_mc)\n",
    "\n",
    "    fpr, tpr = __roc_curve_splitted(data_prediction, mc_prediction, weights_data, weights_mc)\n",
    "\n",
    "    Dnm = np.max(np.abs(fpr - tpr))\n",
    "    return Dnm\n",
    "\n",
    "\n",
    "def roc_auc_truncated(labels, predictions, tpr_thresholds=(0.2, 0.4, 0.6, 0.8),\n",
    "                      roc_weights=(4, 3, 2, 1, 0)):\n",
    "    \"\"\"\n",
    "    Compute weighted area under ROC curve.\n",
    "\n",
    "    :param labels: array-like, true labels\n",
    "    :param predictions: array-like, predictions\n",
    "    :param tpr_thresholds: array-like, true positive rate thresholds delimiting the ROC segments\n",
    "    :param roc_weights: array-like, weights for true positive rate segments\n",
    "    :return: weighted AUC\n",
    "    \"\"\"\n",
    "    assert np.all(predictions >= 0.) and np.all(predictions <= 1.), 'Data predictions are out of range [0, 1]'\n",
    "    assert len(tpr_thresholds) + 1 == len(roc_weights), 'Incompatible lengths of thresholds and weights'\n",
    "    fpr, tpr, _ = roc_curve(labels, predictions)\n",
    "    area = 0.\n",
    "    tpr_thresholds = [0.] + list(tpr_thresholds) + [1.]\n",
    "    for index in range(1, len(tpr_thresholds)):\n",
    "        tpr_cut = np.minimum(tpr, tpr_thresholds[index])\n",
    "        tpr_previous = np.minimum(tpr, tpr_thresholds[index - 1])\n",
    "        area += roc_weights[index - 1] * (auc(fpr, tpr_cut, reorder=True) - auc(fpr, tpr_previous, reorder=True))\n",
    "    tpr_thresholds = np.array(tpr_thresholds)\n",
    "    # roc auc normalization to be 1 for an ideal classifier\n",
    "    area /= np.sum((tpr_thresholds[1:] - tpr_thresholds[:-1]) * np.array(roc_weights))\n",
    "    return area"
   ]
  },
  {
   "cell_type": "code",
   "execution_count": 26,
   "metadata": {},
   "outputs": [
    {
     "name": "stdout",
     "output_type": "stream",
     "text": [
      "\u001b[1m1854/1854\u001b[0m \u001b[32m━━━━━━━━━━━━━━━━━━━━\u001b[0m\u001b[37m\u001b[0m \u001b[1m0s\u001b[0m 258us/step\n",
      "AUC BMI: 0.9006468155639382\n",
      "AUC NN: 0.9311125763105179\n",
      "AUC DCls: 0.9508931006528414\n"
     ]
    }
   ],
   "source": [
    "# get model performance\n",
    "pre_bmi = BMI.predict_proba(X_test)\n",
    "pre_nn = NN.predict_proba(X_test)\n",
    "pre_DCls = DCls.predict_proba(X_test)\n",
    "print(f\"AUC BMI: {roc_auc_score(y_test, pre_bmi[:,1])}\")\n",
    "print(f\"AUC NN: {roc_auc_score(y_test, pre_nn[:,1])}\")\n",
    "print(f\"AUC DCls: {roc_auc_score(y_test, pre_DCls)}\")"
   ]
  },
  {
   "cell_type": "code",
   "execution_count": 29,
   "metadata": {},
   "outputs": [
    {
     "name": "stdout",
     "output_type": "stream",
     "text": [
      "\u001b[1m6892/6892\u001b[0m \u001b[32m━━━━━━━━━━━━━━━━━━━━\u001b[0m\u001b[37m\u001b[0m \u001b[1m2s\u001b[0m 264us/step\n"
     ]
    }
   ],
   "source": [
    "# prepare agreement data\n",
    "agreement_weight = agreement_test[\"weight\"]\n",
    "agreement_signal = agreement_test[\"signal\"]\n",
    "agreement_test_feature = agreement_test.drop(columns=[\"id\", \"signal\", \"SPDhits\", \"weight\"])\n",
    "\n",
    "agreement_probs_BMI = BMI.predict_proba(agreement_test_feature)\n",
    "agreement_probs_NN = NN.predict_proba(agreement_test_feature)\n",
    "agreement_probs_DCls = DCls.predict_proba(agreement_test_feature)"
   ]
  },
  {
   "cell_type": "code",
   "execution_count": 30,
   "metadata": {},
   "outputs": [
    {
     "name": "stdout",
     "output_type": "stream",
     "text": [
      "KS metric 0.014166066560546434 True\n",
      "KS metric 0.04060012283674952 True\n",
      "KS metric 0.048405255957215676 True\n"
     ]
    }
   ],
   "source": [
    "ks_bmi = compute_ks(\n",
    "    agreement_probs_BMI[:,1][agreement_signal == 0],\n",
    "    agreement_probs_BMI[:,1][agreement_signal == 1],\n",
    "    agreement_weight[agreement_signal == 0],\n",
    "    agreement_weight[agreement_signal == 1]\n",
    ")\n",
    "\n",
    "ks_nn = compute_ks(\n",
    "    agreement_probs_NN[:,1][agreement_signal == 0],\n",
    "    agreement_probs_NN[:,1][agreement_signal == 1],\n",
    "    agreement_weight[agreement_signal == 0],\n",
    "    agreement_weight[agreement_signal == 1]\n",
    ")\n",
    "\n",
    "ks_DCls = compute_ks(\n",
    "    agreement_probs_DCls[agreement_signal == 0].reshape(-1),\n",
    "    agreement_probs_DCls[agreement_signal == 1].reshape(-1),\n",
    "    agreement_weight[agreement_signal == 0],\n",
    "    agreement_weight[agreement_signal == 1]\n",
    ")\n",
    "\n",
    "print ('KS metric', ks_bmi, ks_bmi < 0.09)\n",
    "print ('KS metric', ks_nn, ks_nn < 0.09)\n",
    "print ('KS metric', ks_DCls, ks_DCls < 0.09)"
   ]
  },
  {
   "cell_type": "code",
   "execution_count": 31,
   "metadata": {},
   "outputs": [
    {
     "name": "stderr",
     "output_type": "stream",
     "text": [
      "/var/folders/sd/hnbd9dm54xl_zh0fctx18ls40000gn/T/ipykernel_80885/2491414440.py:130: UserWarning: There are no gridspecs with layoutgrids. Possibly did not call parent GridSpec with the \"figure\" keyword\n",
      "  plt.savefig(\"source_target.pdf\")\n",
      "/var/folders/sd/hnbd9dm54xl_zh0fctx18ls40000gn/T/ipykernel_80885/2491414440.py:130: UserWarning: There are no gridspecs with layoutgrids. Possibly did not call parent GridSpec with the \"figure\" keyword\n",
      "  plt.savefig(\"source_target.pdf\")\n",
      "/opt/anaconda3/lib/python3.11/site-packages/IPython/core/pylabtools.py:152: UserWarning: There are no gridspecs with layoutgrids. Possibly did not call parent GridSpec with the \"figure\" keyword\n",
      "  fig.canvas.print_figure(bytes_io, **kw)\n"
     ]
    },
    {
     "data": {
      "image/png": "[encoded data removed]",
      "text/plain": [
       "<Figure size 444x377.872 with 1 Axes>"
      ]
     },
     "metadata": {},
     "output_type": "display_data"
    }
   ],
   "source": [
    "# make some plots\n",
    "fsize = 12\n",
    "fsize_annotate = 10\n",
    "\n",
    "std_figsize = (1.2 * 3.7, 1.6 * 2.3617)\n",
    "std_axes_form = [0.16, 0.15, 0.81, 0.76]\n",
    "\n",
    "electron_color = (0.85, 0.39, 0.14)\n",
    "positron_color = (0.16, 0.37, 0.65)\n",
    "# ax_colors = \"#CFCFCF\"\n",
    "ax_colors = \"darkgrey\"\n",
    "text_color = \"grey\"\n",
    "\n",
    "def std_fig(ax_form=std_axes_form, figsize=std_figsize, rasterized=False):\n",
    "    rcparams = {\n",
    "        \"axes.labelsize\": fsize,\n",
    "        \"xtick.labelsize\": fsize,\n",
    "        \"ytick.labelsize\": fsize,\n",
    "        \"figure.figsize\": std_figsize,\n",
    "        \"legend.frameon\": False,\n",
    "        \"legend.loc\": \"best\",\n",
    "    }\n",
    "    plt.rcParams[\"text.latex.preamble\"] = r\"\\usepackage{amsmath}\\usepackage{amssymb}\"\n",
    "    rc(\"font\", **{\"family\": \"serif\", \"serif\": [\"Computer Modern\"]})\n",
    "    rc(\"text\", usetex=True)\n",
    "    rcParams.update(rcparams)\n",
    "    mpl.rcParams[\"hatch.linewidth\"] = 0.25\n",
    "    fig = plt.figure(figsize=figsize, constrained_layout=True)\n",
    "    ax = fig.add_axes(ax_form, rasterized=rasterized)\n",
    "    ax.patch.set_alpha(0.0)\n",
    "\n",
    "    return fig, ax\n",
    "\n",
    "fig, ax = std_fig()\n",
    "BINS = 10000\n",
    "WIDTH = 0.6\n",
    "LW = 1.3\n",
    "\n",
    "kwargs = {\n",
    "    \"lw\": LW,\n",
    "    \"linestyle\": \"--\",\n",
    "    \"histtype\": \"step\",\n",
    "    \"rwidth\": WIDTH,\n",
    "    \"facecolor\": \"deeppink\",\n",
    "}\n",
    "kwargs[\"label\"] = r\"simulation ($\\gamma=0$)\"\n",
    "ax.hist(\n",
    "    agreement_probs_NN[agreement_signal == 0][:,1],\n",
    "    bins=BINS,\n",
    "    density=True,\n",
    "    weights=agreement_weight[agreement_signal == 0],\n",
    "    edgecolor=\"deeppink\",\n",
    "    **kwargs\n",
    ")\n",
    "kwargs[\"label\"] = r\"data ($\\gamma=0$)\"\n",
    "ax.hist(\n",
    "    agreement_probs_NN[agreement_signal == 1][:,1],\n",
    "    bins=BINS,\n",
    "    density=True,\n",
    "    weights=agreement_weight[agreement_signal == 1],\n",
    "    edgecolor=\"steelblue\",\n",
    "    **kwargs\n",
    ")\n",
    "\n",
    "kwargs = {\n",
    "    \"lw\": LW,\n",
    "    \"histtype\": \"step\",\n",
    "    \"rwidth\": WIDTH,\n",
    "    \"facecolor\": \"deeppink\",\n",
    "}\n",
    "kwargs[\"label\"] = r\"simulation ($\\gamma=0.2$)\"\n",
    "ax.hist(\n",
    "    agreement_probs_BMI[agreement_signal == 0][:,1],\n",
    "    bins=BINS,\n",
    "    density=True,\n",
    "    weights=agreement_weight[agreement_signal == 0],\n",
    "    edgecolor=\"deeppink\",\n",
    "    **kwargs\n",
    ")\n",
    "kwargs[\"label\"] = r\"data ($\\gamma=0.2$)\"\n",
    "ax.hist(\n",
    "    agreement_probs_BMI[agreement_signal == 1][:,1],\n",
    "    bins=BINS,\n",
    "    density=True,\n",
    "    weights=agreement_weight[agreement_signal == 1],\n",
    "    edgecolor=\"steelblue\",\n",
    "    **kwargs\n",
    ")\n",
    "\n",
    "kwargs = {\n",
    "    \"lw\": LW,\n",
    "    \"linestyle\": \":\",\n",
    "    \"histtype\": \"step\",\n",
    "    \"rwidth\": WIDTH,\n",
    "    \"facecolor\": \"deeppink\",\n",
    "}\n",
    "kwargs[\"label\"] = r\"simulation (Adv. Cls.)\"\n",
    "ax.hist(\n",
    "    agreement_probs_DCls[agreement_signal == 0].reshape(-1),\n",
    "    bins=BINS,\n",
    "    density=True,\n",
    "    weights=agreement_weight[agreement_signal == 0],\n",
    "    edgecolor=\"deeppink\",\n",
    "    **kwargs\n",
    ")\n",
    "kwargs[\"label\"] = r\"data (Adv. Cls.)\"\n",
    "ax.hist(\n",
    "    agreement_probs_DCls[agreement_signal == 1].reshape(-1),\n",
    "    bins=BINS,\n",
    "    density=True,\n",
    "    weights=agreement_weight[agreement_signal == 1],\n",
    "    edgecolor=\"steelblue\",\n",
    "    **kwargs\n",
    ")\n",
    "\n",
    "ax.set_xlabel(r\"output\", fontsize=12)\n",
    "ax.set_ylabel(r\"\\#\", fontsize=12)\n",
    "ax.grid(alpha=1, lw=0.25, zorder=-10, color=\"grey\")\n",
    "ax.set_xscale(\"log\")\n",
    "\n",
    "leg1 = ax.legend(\n",
    "    frameon=False,\n",
    "    fontsize=10,\n",
    "    ncol=1,\n",
    "    handlelength=1,\n",
    "    columnspacing=2,\n",
    "    markerfirst=True,\n",
    "    loc=\"upper right\",\n",
    ")\n",
    "plt.savefig(\"source_target.pdf\")\n",
    "plt.show()"
   ]
  },
  {
   "cell_type": "code",
   "execution_count": 153,
   "metadata": {},
   "outputs": [],
   "source": [
    "# prepare correlation data\n",
    "check_correlation_features = correlation.drop(['id', 'mass', 'SPDhits'], axis=1)\n",
    "correlation_probs_BMI = BMI.predict_proba(check_correlation_features)\n",
    "correlation_probs_NN = NN.predict_proba(check_correlation_features)"
   ]
  },
  {
   "cell_type": "code",
   "execution_count": 154,
   "metadata": {},
   "outputs": [
    {
     "name": "stdout",
     "output_type": "stream",
     "text": [
      "CvM metric 0.0008627846393993524 True\n",
      "CvM metric 0.0008137530980162971 True\n"
     ]
    }
   ],
   "source": [
    "cvm_BMI = compute_cvm(correlation_probs_BMI[:,1], correlation['mass'])\n",
    "cvm_NN = compute_cvm(correlation_probs_NN[:,1], correlation['mass'])\n",
    "print ('CvM metric', cvm_BMI, cvm_BMI < 0.002)\n",
    "print ('CvM metric', cvm_NN, cvm_NN < 0.002)"
   ]
  },
  {
   "cell_type": "code",
   "execution_count": 191,
   "metadata": {},
   "outputs": [],
   "source": [
    "# performe some gamma experiments\n",
    "trained_bmi = []\n",
    "for gamma in np.linspace(0, 1, 20):\n",
    "    BMI = BinaryMI(\n",
    "        kernel_regularizer = 0.0,\n",
    "        batch_size=32,\n",
    "        hidden_layers = [64,32],\n",
    "        quantized_position=[True, False],\n",
    "        input_shape=(X_train.shape[1],),\n",
    "        verbose=0,\n",
    "        gamma=gamma,\n",
    "        print_summary=False,\n",
    "        last_layer_size=2,\n",
    "        run_eagerly=False\n",
    "    )\n",
    "    train_hist_BMI = BMI.fit(x_train=X_train, y_train=y_train, s_train=S_train)\n",
    "    trained_bmi.append(BMI)"
   ]
  },
  {
   "cell_type": "code",
   "execution_count": 192,
   "metadata": {},
   "outputs": [],
   "source": [
    "# get evaluation\n",
    "auc_list = []\n",
    "ks_list = []\n",
    "for bmi in trained_bmi:\n",
    "    pre_bmi = bmi.predict_proba(X_test)\n",
    "    agreement_probs_BMI = bmi.predict_proba(agreement_test_feature)\n",
    "    auc_list.append(roc_auc_score(y_test, pre_bmi[:,1]))\n",
    "    ks_list.append(compute_ks(\n",
    "        agreement_probs_BMI[:,1][agreement_signal == 0],\n",
    "        agreement_probs_BMI[:,1][agreement_signal == 1],\n",
    "        agreement_weight[agreement_signal == 0],\n",
    "        agreement_weight[agreement_signal == 1]\n",
    "    ))"
   ]
  },
  {
   "cell_type": "code",
   "execution_count": 195,
   "metadata": {},
   "outputs": [
    {
     "name": "stderr",
     "output_type": "stream",
     "text": [
      "/var/folders/sd/hnbd9dm54xl_zh0fctx18ls40000gn/T/ipykernel_67096/3033064254.py:46: UserWarning: There are no gridspecs with layoutgrids. Possibly did not call parent GridSpec with the \"figure\" keyword\n",
      "  plt.savefig(\"gamma.pdf\")\n",
      "/opt/anaconda3/lib/python3.11/site-packages/IPython/core/pylabtools.py:152: UserWarning: There are no gridspecs with layoutgrids. Possibly did not call parent GridSpec with the \"figure\" keyword\n",
      "  fig.canvas.print_figure(bytes_io, **kw)\n"
     ]
    },
    {
     "data": {
      "image/png": "[encoded data removed]",
      "text/plain": [
       "<Figure size 444x377.872 with 2 Axes>"
      ]
     },
     "metadata": {},
     "output_type": "display_data"
    }
   ],
   "source": [
    "def get_color_line(x, y, z, ax_kwargs, s, linestyle='solid', norm=True):\n",
    "    xnew = np.linspace(min(x), max(x), 3*len(z))\n",
    "    cs = UnivariateSpline(x, y, s=s)\n",
    "    ysmooth= cs(xnew)\n",
    "\n",
    "    ax_kwargs.scatter(x, y, zorder=1)\n",
    "\n",
    "    znew = []\n",
    "    for v in z:\n",
    "        for i in range(3):\n",
    "            znew.append(v)\n",
    "    x = xnew\n",
    "    y = ysmooth\n",
    "    z = znew\n",
    "\n",
    "    points = np.array([x, y]).T.reshape(-1, 1, 2)\n",
    "    segments = np.concatenate([points[:-1], points[1:]], axis=1)\n",
    "    if norm:\n",
    "        norm = plt.Normalize(min(z), max(z))\n",
    "        lc = LineCollection(segments, cmap='viridis', norm=norm, linestyle=linestyle)\n",
    "    else:\n",
    "        lc = LineCollection(segments, cmap='viridis', linestyle=linestyle)\n",
    "\n",
    "    # Set the values used for colormapping\n",
    "    lc.set_array(z)\n",
    "    lc.set_linewidth(2)\n",
    "    line = ax_kwargs.add_collection(lc)\n",
    "    return line\n",
    "\n",
    "fig, ax = std_fig()\n",
    "x = np.array(auc_list)\n",
    "y = 1-np.array(ks_list)\n",
    "z = np.linspace(0, 1, 20)\n",
    "\n",
    "y = y[x>0.6]\n",
    "z = z[x>0.6]\n",
    "x = x[x>0.6]\n",
    "x, y, z = zip(*sorted(zip(x, y, z)))\n",
    "line = get_color_line(x, y, z, ax, s=0.1, linestyle=\"-\", norm=False)\n",
    "\n",
    "plt.xlabel(\"AUC\")\n",
    "plt.ylabel(f\"1-KS\")\n",
    "cbar = fig.colorbar(line)\n",
    "cbar.set_label(f\"$\\gamma$\")\n",
    "cbar.formatter.set_powerlimits((0, 0))\n",
    "plt.savefig(\"gamma.pdf\")\n",
    "plt.show()"
   ]
  },
  {
   "cell_type": "code",
   "execution_count": null,
   "metadata": {},
   "outputs": [],
   "source": [
    "Simulation of the Bernoulli distribution\n",
    "\"\"\"\n",
    "library ieee;\n",
    "use ieee.std_logic_1164.all;\n",
    "\n",
    "entity linear_shift is\n",
    "generic (\n",
    "    g_min : positive := 174;\n",
    "    g_max : positive := 1048509;\n",
    "    g_m : positive := 20;\n",
    "    g_poly : std_logic_vector := \"11000000001100000000\" -- x^7+x^6+1\n",
    ");\n",
    "port (\n",
    "    i_sync_reset    : in    std_logic;\n",
    "    i_seed          : in    std_logic_vector (g_m-1 downto 0);\n",
    "    i_en            : in    std_logic;\n",
    "    i_activation    : in    std_logic_vector (9 downto 0);\n",
    "    o_bernoulli     : out   std_logic;\n",
    "    o_lfsr          : out   std_logic_vector (g_m-1 downto 0);\n",
    "\n",
    "    i_reset_n       : in    std_logic;\n",
    "    i_clk           : in    std_logic--;\n",
    ");\n",
    "end entity;\n",
    "\n",
    "architecture rtl of linear_shift is\n",
    "\n",
    "    signal r_lfsr : std_logic_vector (g_m downto 1);\n",
    "    signal w_mask : std_logic_vector (g_m downto 1);\n",
    "    signal w_poly : std_logic_vector (g_m downto 1);\n",
    "\n",
    "begin\n",
    "\n",
    "    o_lfsr <= r_lfsr(g_m downto 1);\n",
    "    w_poly <= g_poly;\n",
    "    g_mask : for k in g_m downto 1 generate\n",
    "        w_mask(k) <= w_poly(k) and r_lfsr(1);\n",
    "    end generate;\n",
    "\n",
    "    process(i_clk, i_reset_n)\n",
    "    begin\n",
    "    if ( i_reset_n /= '1' ) then\n",
    "        r_lfsr <= (others => '1');\n",
    "    elsif rising_edge(i_clk) then\n",
    "        if ( i_sync_reset = '1' ) then\n",
    "            r_lfsr <= i_seed;\n",
    "        elsif (i_en = '1') then\n",
    "            r_lfsr <= '0' & r_lfsr(g_m downto 2) xor w_mask;\n",
    "        end if;\n",
    "    end if;\n",
    "    end process;\n",
    "\n",
    "end architecture;\n",
    "\"\"\""
   ]
  },
  {
   "cell_type": "code",
   "execution_count": 64,
   "metadata": {},
   "outputs": [
    {
     "name": "stdout",
     "output_type": "stream",
     "text": [
      "0b100000\n",
      "DONE\n",
      "126 2 255\n"
     ]
    },
    {
     "data": {
      "image/png": "[encoded data removed]",
      "text/plain": [
       "<Figure size 640x480 with 1 Axes>"
      ]
     },
     "metadata": {},
     "output_type": "display_data"
    },
    {
     "data": {
      "image/png": "[encoded data removed]",
      "text/plain": [
       "<Figure size 640x480 with 1 Axes>"
      ]
     },
     "metadata": {},
     "output_type": "display_data"
    },
    {
     "name": "stdout",
     "output_type": "stream",
     "text": [
      "0.5546252090146644 0.5476190476190477\n"
     ]
    }
   ],
   "source": [
    "# default values\n",
    "g_m = 8 # 20\n",
    "g_poly = 0b11000000#001100000000\n",
    "w_poly = g_poly\n",
    "i_seed = 0b00100000#000010000000\n",
    "# pre-computed values in software\n",
    "min_value = 2#174\n",
    "max_value = 255#1048509\n",
    "\n",
    "# reset after sync-reset\n",
    "r_lfsr = i_seed\n",
    "print(bin(i_seed))\n",
    "# loop for 10 clock cycles\n",
    "states = []\n",
    "bernoulli = []\n",
    "\n",
    "# get an activation\n",
    "activation = random.uniform(0, 1)\n",
    "while True:\n",
    "    # get the outer asignement first\n",
    "    w_mask_list = []\n",
    "    for bit in range(g_m):\n",
    "        w_mask_list.append(((w_poly >> bit) & 1) and ((r_lfsr >> 1) & 1))\n",
    "    w_mask = int(\"\".join(map(str, reversed(w_mask_list))), 2)\n",
    "\n",
    "    # do the actual shift\n",
    "    r_lfsr = r_lfsr >> 1\n",
    "    r_lfsr_list = []\n",
    "    for bit in range(g_m):\n",
    "        r_lfsr_list.append(((r_lfsr >> bit) & 1) ^ ((w_mask >> bit) & 1))\n",
    "    r_lfsr = int(\"\".join(map(str, reversed(r_lfsr_list))), 2)\n",
    "    if r_lfsr == i_seed:\n",
    "        print(\"DONE\")\n",
    "        break\n",
    "    states.append(r_lfsr)\n",
    "\n",
    "    # we use a RAM here to get the pre-computed normed values\n",
    "    if activation <= ((r_lfsr - min_value) / (max_value - min_value)):\n",
    "        bernoulli.append(0)\n",
    "    else:\n",
    "        bernoulli.append(1)\n",
    "\n",
    "print(len(states), min(states), max(states))\n",
    "states = np.array(states)\n",
    "plt.hist(states, bins=10)\n",
    "plt.show()\n",
    "plt.hist(bernoulli)\n",
    "plt.show()\n",
    "print(activation, sum(bernoulli)/len(bernoulli))"
   ]
  },
  {
   "cell_type": "code",
   "execution_count": null,
   "metadata": {},
   "outputs": [],
   "source": []
  }
 ],
 "metadata": {
  "kernelspec": {
   "display_name": "base",
   "language": "python",
   "name": "python3"
  },
  "language_info": {
   "codemirror_mode": {
    "name": "ipython",
    "version": 3
   },
   "file_extension": ".py",
   "mimetype": "text/x-python",
   "name": "python",
   "nbconvert_exporter": "python",
   "pygments_lexer": "ipython3",
   "version": "3.11.8"
  }
 },
 "nbformat": 4,
 "nbformat_minor": 2
}
